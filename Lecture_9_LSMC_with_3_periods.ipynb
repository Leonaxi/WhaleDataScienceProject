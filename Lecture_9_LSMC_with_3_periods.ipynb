{
  "nbformat": 4,
  "nbformat_minor": 0,
  "metadata": {
    "colab": {
      "provenance": [],
      "collapsed_sections": [],
      "include_colab_link": true
    },
    "kernelspec": {
      "name": "python3",
      "display_name": "Python 3"
    }
  },
  "cells": [
    {
      "cell_type": "markdown",
      "metadata": {
        "id": "view-in-github",
        "colab_type": "text"
      },
      "source": [
        "<a href=\"https://colab.research.google.com/github/Leonaxi/WhaleDataScienceProject/blob/master/Lecture_9_LSMC_with_3_periods.ipynb\" target=\"_parent\"><img src=\"https://colab.research.google.com/assets/colab-badge.svg\" alt=\"Open In Colab\"/></a>"
      ]
    },
    {
      "cell_type": "code",
      "metadata": {
        "id": "M3gFOJ7a3uIf",
        "colab": {
          "base_uri": "https://localhost:8080/"
        },
        "outputId": "4db7b3e0-45ae-4199-a896-2298e1ddbe13"
      },
      "source": [
        "import numpy as np\n",
        "\n",
        "discount = np.exp(-0.06)\n",
        "\n",
        "# Regression at time 2\n",
        "y = discount * np.array([0, 0.07, 0.18, 0.20, 0.09])\n",
        "x = np.array([1.08, 1.07, .97, .77, .84])\n",
        "X = np.column_stack([np.ones_like(x), x, x**2])\n",
        "Θ2 = np.linalg.lstsq(X, y)[0]\n",
        "print(Θ2)\n"
      ],
      "execution_count": null,
      "outputs": [
        {
          "output_type": "stream",
          "name": "stdout",
          "text": [
            "[-1.06998766  2.98341063 -1.81357618]\n"
          ]
        },
        {
          "output_type": "stream",
          "name": "stderr",
          "text": [
            "/usr/local/lib/python3.7/dist-packages/ipykernel_launcher.py:9: FutureWarning: `rcond` parameter will change to the default of machine precision times ``max(M, N)`` where M and N are the input matrix dimensions.\n",
            "To use the future default and silence this warning we advise to pass `rcond=None`, to keep using the old, explicitly pass `rcond=-1`.\n",
            "  if __name__ == '__main__':\n"
          ]
        }
      ]
    },
    {
      "cell_type": "code",
      "metadata": {
        "id": "KK-DAzvdZnMn",
        "colab": {
          "base_uri": "https://localhost:8080/"
        },
        "outputId": "624af3e4-f4e0-450b-b2ba-bf6e03d242df"
      },
      "source": [
        "def P2(S2):\n",
        "  X = np.column_stack([np.ones_like(x), x, x**2])\n",
        "  return X @ Θ2\n",
        "\n",
        "S2 = np.array([1.08, 1.07, .97, .77, .84])\n"
      ],
      "execution_count": null,
      "outputs": [
        {
          "output_type": "execute_result",
          "data": {
            "text/plain": [
              "array([0.03674056, 0.04589834, 0.11752682, 0.15196921, 0.15641792])"
            ]
          },
          "metadata": {},
          "execution_count": 4
        }
      ]
    },
    {
      "cell_type": "code",
      "metadata": {
        "id": "dlbFsBlG8P0J",
        "colab": {
          "base_uri": "https://localhost:8080/"
        },
        "outputId": "9e28077d-bb90-4773-c7a0-38334041af99"
      },
      "source": [
        "# For t = 1\n",
        "r = 0.06\n",
        "S1 = np.array([1.09, 0.93, .76, .92, .88])\n",
        "X = np.column_stack([np.ones_like(S1), S1, S1**2])\n",
        "\n",
        "y = np.array([0., 0.13, .33, .26, 0.]) * np.exp(-r)\n",
        "Θ1 = np.linalg.lstsq(X, y)[0]\n",
        "\n",
        "def P1(S1):\n",
        "  # X = np.column_stack([np.ones_like(S1), S1, S1**2])\n",
        "  # return X @  Θ1\n",
        "  return Θ1[0] + Θ1[1] * S1+ Θ1[2] * S1**2\n",
        "\n",
        "print(P1(S1))\n",
        "\n"
      ],
      "execution_count": null,
      "outputs": [
        {
          "output_type": "stream",
          "name": "stdout",
          "text": [
            "[0.01348511 0.10874928 0.28606468 0.11700927 0.15276213]\n"
          ]
        },
        {
          "output_type": "stream",
          "name": "stderr",
          "text": [
            "/usr/local/lib/python3.7/dist-packages/ipykernel_launcher.py:7: FutureWarning: `rcond` parameter will change to the default of machine precision times ``max(M, N)`` where M and N are the input matrix dimensions.\n",
            "To use the future default and silence this warning we advise to pass `rcond=None`, to keep using the old, explicitly pass `rcond=-1`.\n",
            "  import sys\n"
          ]
        }
      ]
    },
    {
      "cell_type": "code",
      "metadata": {
        "id": "sPWUJtalIsQe"
      },
      "source": [
        "d = np.exp(-r)\n",
        "DFC = np.array([0, 0, 0.07 * d, .17 * d**3, 0., .34 * d, 0.18 * d, 0.22 * d])"
      ],
      "execution_count": null,
      "outputs": []
    },
    {
      "cell_type": "code",
      "metadata": {
        "id": "lF4ebKL2Isjh",
        "colab": {
          "base_uri": "https://localhost:8080/"
        },
        "outputId": "ec3256d7-dc35-4224-a1a7-3c028c7f3dae"
      },
      "source": [
        "P0 = np.mean(DFC)\n",
        "print(P0)\n"
      ],
      "execution_count": null,
      "outputs": [
        {
          "output_type": "stream",
          "name": "stdout",
          "text": [
            "0.11310315101789473\n"
          ]
        }
      ]
    },
    {
      "cell_type": "code",
      "metadata": {
        "id": "rb64jHmIw0aJ"
      },
      "source": [],
      "execution_count": null,
      "outputs": []
    }
  ]
}